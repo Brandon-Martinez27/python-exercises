{
 "cells": [
  {
   "cell_type": "markdown",
   "metadata": {},
   "source": [
    "### 1. Conditional Basics"
   ]
  },
  {
   "cell_type": "markdown",
   "metadata": {},
   "source": [
    "#### a. prompt the user for a day of the week, print out whether the day is Monday or not"
   ]
  },
  {
   "cell_type": "code",
   "execution_count": 1,
   "metadata": {},
   "outputs": [
    {
     "name": "stdout",
     "output_type": "stream",
     "text": [
      "Enter day of the week: funday\n",
      "funday\n"
     ]
    }
   ],
   "source": [
    "valu = input(\"Enter day of the week: \") \n",
    "print(valu)"
   ]
  },
  {
   "cell_type": "code",
   "execution_count": 2,
   "metadata": {},
   "outputs": [
    {
     "name": "stdout",
     "output_type": "stream",
     "text": [
      "Today is not Monday\n"
     ]
    }
   ],
   "source": [
    "if valu.lower() == 'monday':\n",
    "    print(\"Today is Monday\")\n",
    "else:\n",
    "    print(\"Today is not Monday\")"
   ]
  },
  {
   "cell_type": "markdown",
   "metadata": {},
   "source": [
    "#### b. prompt the user for a day of the week, print out whether the day is a weekday or a weekend"
   ]
  },
  {
   "cell_type": "code",
   "execution_count": 3,
   "metadata": {},
   "outputs": [
    {
     "name": "stdout",
     "output_type": "stream",
     "text": [
      "Enter day of the week: sunday\n",
      "sunday\n"
     ]
    }
   ],
   "source": [
    "valu2 = input(\"Enter day of the week: \") \n",
    "print(valu2)"
   ]
  },
  {
   "cell_type": "code",
   "execution_count": 4,
   "metadata": {},
   "outputs": [
    {
     "name": "stdout",
     "output_type": "stream",
     "text": [
      "It's the freakin weekend!\n"
     ]
    }
   ],
   "source": [
    "if valu2.lower() == 'saturday' or valu2.lower() == 'sunday':\n",
    "    print(\"It's the freakin weekend!\")\n",
    "else:\n",
    "    print(\"Back to work...\")"
   ]
  },
  {
   "cell_type": "markdown",
   "metadata": {},
   "source": [
    "#### c. create variables and make up values for\n",
    "- the number of hours worked in one week\n",
    "- the hourly rate\n",
    "- how much the week's paycheck will be\n",
    "#### write the python code that calculates the weekly paycheck. You get paid time and a half if you work more than 40 hours"
   ]
  },
  {
   "cell_type": "code",
   "execution_count": 11,
   "metadata": {},
   "outputs": [
    {
     "name": "stdout",
     "output_type": "stream",
     "text": [
      "2750.0\n"
     ]
    }
   ],
   "source": [
    "hours_per_week = 55\n",
    "hourly_rate = 44\n",
    "\n",
    "time_and_a_half = (hours_per_week - 40) * (hourly_rate * 1.5)\n",
    "\n",
    "if hours_per_week > 40:\n",
    "    paycheck = (hourly_rate * 40) + time_and_a_half\n",
    "else:\n",
    "    paycheck = hourly_rate * hours_per_week\n",
    "print(paycheck)"
   ]
  },
  {
   "cell_type": "markdown",
   "metadata": {},
   "source": [
    "### 2. Loop Basics"
   ]
  },
  {
   "cell_type": "markdown",
   "metadata": {},
   "source": [
    "a. While\n",
    "\n",
    "- Create an integer variable i with a value of 5.\n",
    "- Create a while loop that runs so long as i is less than or equal to 15\n",
    "- Each loop iteration, output the current value of i, then increment i by one. "
   ]
  },
  {
   "cell_type": "code",
   "execution_count": 13,
   "metadata": {},
   "outputs": [
    {
     "name": "stdout",
     "output_type": "stream",
     "text": [
      "5\n",
      "6\n",
      "7\n",
      "8\n",
      "9\n",
      "10\n",
      "11\n",
      "12\n",
      "13\n",
      "14\n",
      "15\n"
     ]
    }
   ],
   "source": [
    "i = 5\n",
    "\n",
    "while i <= 15:\n",
    "    print(i)\n",
    "    i += 1"
   ]
  },
  {
   "cell_type": "markdown",
   "metadata": {},
   "source": [
    "- Create a while loop that will count by 2's starting with 0 and ending at 100. Follow each number with a new line.\n",
    "- Alter your loop to count backwards by 5's from 100 to -10.\n",
    "- Create a while loop that starts at 2, and displays the number squared on each line while the number is less than 1,000,000. Output should equal:"
   ]
  },
  {
   "cell_type": "code",
   "execution_count": 14,
   "metadata": {},
   "outputs": [
    {
     "name": "stdout",
     "output_type": "stream",
     "text": [
      "0\n",
      "2\n",
      "4\n",
      "6\n",
      "8\n",
      "10\n",
      "12\n",
      "14\n",
      "16\n",
      "18\n",
      "20\n",
      "22\n",
      "24\n",
      "26\n",
      "28\n",
      "30\n",
      "32\n",
      "34\n",
      "36\n",
      "38\n",
      "40\n",
      "42\n",
      "44\n",
      "46\n",
      "48\n",
      "50\n",
      "52\n",
      "54\n",
      "56\n",
      "58\n",
      "60\n",
      "62\n",
      "64\n",
      "66\n",
      "68\n",
      "70\n",
      "72\n",
      "74\n",
      "76\n",
      "78\n",
      "80\n",
      "82\n",
      "84\n",
      "86\n",
      "88\n",
      "90\n",
      "92\n",
      "94\n",
      "96\n",
      "98\n",
      "100\n",
      "________________________\n",
      "100\n",
      "95\n",
      "90\n",
      "85\n",
      "80\n",
      "75\n",
      "70\n",
      "65\n",
      "60\n",
      "55\n",
      "50\n",
      "45\n",
      "40\n",
      "35\n",
      "30\n",
      "25\n",
      "20\n",
      "15\n",
      "10\n",
      "5\n",
      "0\n",
      "-5\n",
      "________________________\n",
      "2\n",
      "4\n",
      "16\n",
      "256\n",
      "65536\n"
     ]
    }
   ],
   "source": [
    "i = 0\n",
    "while i <= 100:\n",
    "    print(i)\n",
    "    i += 2\n",
    "print(\"________________________\")\n",
    "i = 100\n",
    "while i >= -5:\n",
    "    print(i)\n",
    "    i -= 5\n",
    "print(\"________________________\")    \n",
    "i = 2\n",
    "while i < 1_000_000:\n",
    "    print(i)\n",
    "    i = i**2"
   ]
  },
  {
   "cell_type": "markdown",
   "metadata": {},
   "source": [
    "- Write a loop that uses print to create the output shown below."
   ]
  },
  {
   "cell_type": "code",
   "execution_count": 15,
   "metadata": {},
   "outputs": [
    {
     "name": "stdout",
     "output_type": "stream",
     "text": [
      "100\n",
      "95\n",
      "90\n",
      "85\n",
      "80\n",
      "75\n",
      "70\n",
      "65\n",
      "60\n",
      "55\n",
      "50\n",
      "45\n",
      "40\n",
      "35\n",
      "30\n",
      "25\n",
      "20\n",
      "15\n",
      "10\n",
      "5\n"
     ]
    }
   ],
   "source": [
    "i = 100\n",
    "while i >= 5:\n",
    "    print(i)\n",
    "    i -= 5"
   ]
  },
  {
   "cell_type": "markdown",
   "metadata": {},
   "source": [
    "b. For Loops\n",
    "\n",
    "    i. Write some code that prompts the user for a number, then shows a multiplication table up through 10 for that number"
   ]
  },
  {
   "cell_type": "code",
   "execution_count": 18,
   "metadata": {},
   "outputs": [
    {
     "name": "stdout",
     "output_type": "stream",
     "text": [
      "Enter a number: 2\n",
      "2 x 1 = 2\n",
      "2 x 2 = 4\n",
      "2 x 3 = 6\n",
      "2 x 4 = 8\n",
      "2 x 5 = 10\n",
      "2 x 6 = 12\n",
      "2 x 7 = 14\n",
      "2 x 8 = 16\n",
      "2 x 9 = 18\n",
      "2 x 10 = 20\n"
     ]
    }
   ],
   "source": [
    "inp = int(input(\"Enter a number: \"))\n",
    "for number in range(1,11):\n",
    "    print(inp, \"x\", number, \"=\", inp * number)"
   ]
  },
  {
   "cell_type": "markdown",
   "metadata": {},
   "source": [
    "    ii. Create a for loop that uses print to create the output shown below."
   ]
  },
  {
   "cell_type": "code",
   "execution_count": 19,
   "metadata": {
    "scrolled": true
   },
   "outputs": [
    {
     "name": "stdout",
     "output_type": "stream",
     "text": [
      "1\n",
      "22\n",
      "333\n",
      "4444\n",
      "55555\n",
      "666666\n",
      "7777777\n",
      "88888888\n",
      "999999999\n"
     ]
    }
   ],
   "source": [
    "one_to_nine = list(range(1,10))\n",
    "for n in one_to_nine:\n",
    "    print(str(n)*n)\n",
    "# I spent way too long on this problem! \n",
    "# I didn't know you could multiply a string by an integer."
   ]
  },
  {
   "cell_type": "markdown",
   "metadata": {},
   "source": [
    "c. break and continue\n",
    "\n",
    "    i. Prompt the user for an odd number between 1 and 50. Use a loop and a break statement to continue prompting the user if they enter invalid input. (Hint: use the isdigit method on strings to determine this). Use a loop and the continue statement to output all the odd numbers between 1 and 50, except for the number the user entered"
   ]
  },
  {
   "cell_type": "markdown",
   "metadata": {},
   "source": [
    "###### ALL conditions must be True (and)\n",
    "- i <= 50 # input is less than/ equal to 50\n",
    "- i >= 1 # input is greater than/equal to 1\n",
    "- i.isdigit() # input is has digits\n",
    "- i % 2 != 0 # input must be odd\n",
    "\n",
    "##### process\n",
    "- if all true then 'break' the loop\n",
    "- loop(while) the input command if one of conditons returns false\n",
    "- a while loop will stop when until condition is false\n",
    "- all true conditions must be reversed to keep running "
   ]
  },
  {
   "cell_type": "markdown",
   "metadata": {},
   "source": [
    "###### step 1(failed): first try (didn't account for invalid info)"
   ]
  },
  {
   "cell_type": "raw",
   "metadata": {},
   "source": [
    "inp = int(input(\"Enter an odd number between 1 and 50: \"))\n",
    "while inp > 50 or inp < 1 or inp % 2 == 0:\n",
    "    inp = int(input(\"Enter an odd number between 1 and 50: \"))\n",
    "    continue"
   ]
  },
  {
   "cell_type": "markdown",
   "metadata": {},
   "source": [
    "###### step 2: Use a loop and the continue statement to output all the odd numbers between 1 and 50, except for the number the user entered"
   ]
  },
  {
   "cell_type": "raw",
   "metadata": {},
   "source": [
    "for n in range (1,51):\n",
    "    if n == inp:\n",
    "        print('Skipped', inp)\n",
    "        continue\n",
    "    if n % 2 != 0:\n",
    "        print(n)"
   ]
  },
  {
   "cell_type": "code",
   "execution_count": 82,
   "metadata": {},
   "outputs": [
    {
     "name": "stdout",
     "output_type": "stream",
     "text": [
      "Enter an odd number between 1 and 50: 2\n",
      "Read the prompt\n",
      "Enter an odd number between 1 and 50: f\n",
      "Number please\n",
      "Enter an odd number between 1 and 50: 3\n",
      "1\n",
      "Skipped 3\n",
      "5\n",
      "7\n",
      "9\n",
      "11\n",
      "13\n",
      "15\n",
      "17\n",
      "19\n",
      "21\n",
      "23\n",
      "25\n",
      "27\n",
      "29\n",
      "31\n",
      "33\n",
      "35\n",
      "37\n",
      "39\n",
      "41\n",
      "43\n",
      "45\n",
      "47\n",
      "49\n"
     ]
    }
   ],
   "source": [
    "# final code\n",
    "while True:\n",
    "    try:\n",
    "        inp = int(input(\"Enter an odd number between 1 and 50: \"))\n",
    "        if inp <= 50 and inp >= 1 and inp % 2 != 0:\n",
    "            break\n",
    "        print('Read the prompt')\n",
    "    except ValueError:\n",
    "        print('Number please')\n",
    "for n in range (1,51):\n",
    "    if n == inp:\n",
    "        print('Skipped', inp)\n",
    "        continue\n",
    "    if n % 2 != 0:\n",
    "        print(n)"
   ]
  },
  {
   "cell_type": "markdown",
   "metadata": {},
   "source": [
    "d. The input function can be used to prompt for input and use that input in your python code. Prompt the user to enter a positive number and write a loop that counts from 0 to that number. (Hints: first make sure that the value the user entered is a valid number, also note that the input function returns a string, so you'll need to convert this to a numeric type.)"
   ]
  },
  {
   "cell_type": "code",
   "execution_count": 85,
   "metadata": {},
   "outputs": [
    {
     "name": "stdout",
     "output_type": "stream",
     "text": [
      "Enter a positive integer: 16\n"
     ]
    }
   ],
   "source": [
    "while True:\n",
    "    try:\n",
    "        inp = int(input(\"Enter a positive integer: \"))\n",
    "        if inp > 0 :\n",
    "            break\n",
    "        print('Read the prompt')\n",
    "    except ValueError:\n",
    "        print('Integer please')"
   ]
  },
  {
   "cell_type": "code",
   "execution_count": 86,
   "metadata": {},
   "outputs": [
    {
     "name": "stdout",
     "output_type": "stream",
     "text": [
      "0\n",
      "1\n",
      "2\n",
      "3\n",
      "4\n",
      "5\n",
      "6\n",
      "7\n",
      "8\n",
      "9\n",
      "10\n",
      "11\n",
      "12\n",
      "13\n",
      "14\n",
      "15\n",
      "16\n"
     ]
    }
   ],
   "source": [
    "for n in range (inp+1):\n",
    "    print(n)"
   ]
  },
  {
   "cell_type": "markdown",
   "metadata": {},
   "source": [
    "e. Write a program that prompts the user for a positive integer. Next write a loop that prints out the numbers from the number the user entered down to 1."
   ]
  },
  {
   "cell_type": "code",
   "execution_count": 92,
   "metadata": {},
   "outputs": [
    {
     "name": "stdout",
     "output_type": "stream",
     "text": [
      "Enter a positive integer: 20\n"
     ]
    }
   ],
   "source": [
    "while True:\n",
    "    try:\n",
    "        inp = int(input(\"Enter a positive integer: \"))\n",
    "        if inp > 0 :\n",
    "            break\n",
    "        print('Read the prompt')\n",
    "    except ValueError:\n",
    "        print('Integer please')"
   ]
  },
  {
   "cell_type": "code",
   "execution_count": 93,
   "metadata": {},
   "outputs": [
    {
     "name": "stdout",
     "output_type": "stream",
     "text": [
      "20\n",
      "19\n",
      "18\n",
      "17\n",
      "16\n",
      "15\n",
      "14\n",
      "13\n",
      "12\n",
      "11\n",
      "10\n",
      "9\n",
      "8\n",
      "7\n",
      "6\n",
      "5\n",
      "4\n",
      "3\n",
      "2\n",
      "1\n"
     ]
    }
   ],
   "source": [
    "while inp > 0:\n",
    "    print(inp)\n",
    "    inp -= 1"
   ]
  },
  {
   "cell_type": "markdown",
   "metadata": {},
   "source": [
    "### 3. Fizzbuzz\n",
    "\n",
    "One of the most common interview questions for entry-level programmers is the FizzBuzz test. Developed by Imran Ghory, the test is designed to test basic looping and conditional logic skills."
   ]
  },
  {
   "cell_type": "markdown",
   "metadata": {},
   "source": [
    "- Write a program that prints the numbers from 1 to 100."
   ]
  },
  {
   "cell_type": "code",
   "execution_count": 94,
   "metadata": {},
   "outputs": [
    {
     "name": "stdout",
     "output_type": "stream",
     "text": [
      "1\n",
      "2\n",
      "3\n",
      "4\n",
      "5\n",
      "6\n",
      "7\n",
      "8\n",
      "9\n",
      "10\n",
      "11\n",
      "12\n",
      "13\n",
      "14\n",
      "15\n",
      "16\n",
      "17\n",
      "18\n",
      "19\n",
      "20\n",
      "21\n",
      "22\n",
      "23\n",
      "24\n",
      "25\n",
      "26\n",
      "27\n",
      "28\n",
      "29\n",
      "30\n",
      "31\n",
      "32\n",
      "33\n",
      "34\n",
      "35\n",
      "36\n",
      "37\n",
      "38\n",
      "39\n",
      "40\n",
      "41\n",
      "42\n",
      "43\n",
      "44\n",
      "45\n",
      "46\n",
      "47\n",
      "48\n",
      "49\n",
      "50\n",
      "51\n",
      "52\n",
      "53\n",
      "54\n",
      "55\n",
      "56\n",
      "57\n",
      "58\n",
      "59\n",
      "60\n",
      "61\n",
      "62\n",
      "63\n",
      "64\n",
      "65\n",
      "66\n",
      "67\n",
      "68\n",
      "69\n",
      "70\n",
      "71\n",
      "72\n",
      "73\n",
      "74\n",
      "75\n",
      "76\n",
      "77\n",
      "78\n",
      "79\n",
      "80\n",
      "81\n",
      "82\n",
      "83\n",
      "84\n",
      "85\n",
      "86\n",
      "87\n",
      "88\n",
      "89\n",
      "90\n",
      "91\n",
      "92\n",
      "93\n",
      "94\n",
      "95\n",
      "96\n",
      "97\n",
      "98\n",
      "99\n",
      "100\n"
     ]
    }
   ],
   "source": [
    "for n in range(1,101):\n",
    "    print(n)"
   ]
  },
  {
   "cell_type": "markdown",
   "metadata": {},
   "source": [
    "- For multiples of three print \"Fizz\" instead of the number"
   ]
  },
  {
   "cell_type": "code",
   "execution_count": 97,
   "metadata": {},
   "outputs": [
    {
     "name": "stdout",
     "output_type": "stream",
     "text": [
      "1\n",
      "2\n",
      "Fizz\n",
      "4\n",
      "5\n",
      "Fizz\n",
      "7\n",
      "8\n",
      "Fizz\n",
      "10\n",
      "11\n",
      "Fizz\n",
      "13\n",
      "14\n",
      "Fizz\n",
      "16\n",
      "17\n",
      "Fizz\n",
      "19\n",
      "20\n",
      "Fizz\n",
      "22\n",
      "23\n",
      "Fizz\n",
      "25\n",
      "26\n",
      "Fizz\n",
      "28\n",
      "29\n",
      "Fizz\n",
      "31\n",
      "32\n",
      "Fizz\n",
      "34\n",
      "35\n",
      "Fizz\n",
      "37\n",
      "38\n",
      "Fizz\n",
      "40\n",
      "41\n",
      "Fizz\n",
      "43\n",
      "44\n",
      "Fizz\n",
      "46\n",
      "47\n",
      "Fizz\n",
      "49\n",
      "50\n",
      "Fizz\n",
      "52\n",
      "53\n",
      "Fizz\n",
      "55\n",
      "56\n",
      "Fizz\n",
      "58\n",
      "59\n",
      "Fizz\n",
      "61\n",
      "62\n",
      "Fizz\n",
      "64\n",
      "65\n",
      "Fizz\n",
      "67\n",
      "68\n",
      "Fizz\n",
      "70\n",
      "71\n",
      "Fizz\n",
      "73\n",
      "74\n",
      "Fizz\n",
      "76\n",
      "77\n",
      "Fizz\n",
      "79\n",
      "80\n",
      "Fizz\n",
      "82\n",
      "83\n",
      "Fizz\n",
      "85\n",
      "86\n",
      "Fizz\n",
      "88\n",
      "89\n",
      "Fizz\n",
      "91\n",
      "92\n",
      "Fizz\n",
      "94\n",
      "95\n",
      "Fizz\n",
      "97\n",
      "98\n",
      "Fizz\n",
      "100\n"
     ]
    }
   ],
   "source": [
    "for n in range(1,101):\n",
    "    if n % 3 ==0:\n",
    "        print('Fizz')\n",
    "        continue\n",
    "    print(n) "
   ]
  },
  {
   "cell_type": "markdown",
   "metadata": {},
   "source": [
    "- For the multiples of five print \"Buzz\"."
   ]
  },
  {
   "cell_type": "code",
   "execution_count": 98,
   "metadata": {},
   "outputs": [
    {
     "name": "stdout",
     "output_type": "stream",
     "text": [
      "1\n",
      "2\n",
      "3\n",
      "4\n",
      "Buzz\n",
      "6\n",
      "7\n",
      "8\n",
      "9\n",
      "Buzz\n",
      "11\n",
      "12\n",
      "13\n",
      "14\n",
      "Buzz\n",
      "16\n",
      "17\n",
      "18\n",
      "19\n",
      "Buzz\n",
      "21\n",
      "22\n",
      "23\n",
      "24\n",
      "Buzz\n",
      "26\n",
      "27\n",
      "28\n",
      "29\n",
      "Buzz\n",
      "31\n",
      "32\n",
      "33\n",
      "34\n",
      "Buzz\n",
      "36\n",
      "37\n",
      "38\n",
      "39\n",
      "Buzz\n",
      "41\n",
      "42\n",
      "43\n",
      "44\n",
      "Buzz\n",
      "46\n",
      "47\n",
      "48\n",
      "49\n",
      "Buzz\n",
      "51\n",
      "52\n",
      "53\n",
      "54\n",
      "Buzz\n",
      "56\n",
      "57\n",
      "58\n",
      "59\n",
      "Buzz\n",
      "61\n",
      "62\n",
      "63\n",
      "64\n",
      "Buzz\n",
      "66\n",
      "67\n",
      "68\n",
      "69\n",
      "Buzz\n",
      "71\n",
      "72\n",
      "73\n",
      "74\n",
      "Buzz\n",
      "76\n",
      "77\n",
      "78\n",
      "79\n",
      "Buzz\n",
      "81\n",
      "82\n",
      "83\n",
      "84\n",
      "Buzz\n",
      "86\n",
      "87\n",
      "88\n",
      "89\n",
      "Buzz\n",
      "91\n",
      "92\n",
      "93\n",
      "94\n",
      "Buzz\n",
      "96\n",
      "97\n",
      "98\n",
      "99\n",
      "Buzz\n"
     ]
    }
   ],
   "source": [
    "for n in range(1,101):\n",
    "    if n % 5 == 0:\n",
    "        print('Buzz')\n",
    "        continue\n",
    "    print(n)"
   ]
  },
  {
   "cell_type": "markdown",
   "metadata": {},
   "source": [
    "- For numbers which are multiples of both three and five print \"FizzBuzz\"."
   ]
  },
  {
   "cell_type": "code",
   "execution_count": 100,
   "metadata": {},
   "outputs": [
    {
     "name": "stdout",
     "output_type": "stream",
     "text": [
      "1\n",
      "2\n",
      "3\n",
      "4\n",
      "5\n",
      "6\n",
      "7\n",
      "8\n",
      "9\n",
      "10\n",
      "11\n",
      "12\n",
      "13\n",
      "14\n",
      "FizzBuzz\n",
      "16\n",
      "17\n",
      "18\n",
      "19\n",
      "20\n",
      "21\n",
      "22\n",
      "23\n",
      "24\n",
      "25\n",
      "26\n",
      "27\n",
      "28\n",
      "29\n",
      "FizzBuzz\n",
      "31\n",
      "32\n",
      "33\n",
      "34\n",
      "35\n",
      "36\n",
      "37\n",
      "38\n",
      "39\n",
      "40\n",
      "41\n",
      "42\n",
      "43\n",
      "44\n",
      "FizzBuzz\n",
      "46\n",
      "47\n",
      "48\n",
      "49\n",
      "50\n",
      "51\n",
      "52\n",
      "53\n",
      "54\n",
      "55\n",
      "56\n",
      "57\n",
      "58\n",
      "59\n",
      "FizzBuzz\n",
      "61\n",
      "62\n",
      "63\n",
      "64\n",
      "65\n",
      "66\n",
      "67\n",
      "68\n",
      "69\n",
      "70\n",
      "71\n",
      "72\n",
      "73\n",
      "74\n",
      "FizzBuzz\n",
      "76\n",
      "77\n",
      "78\n",
      "79\n",
      "80\n",
      "81\n",
      "82\n",
      "83\n",
      "84\n",
      "85\n",
      "86\n",
      "87\n",
      "88\n",
      "89\n",
      "FizzBuzz\n",
      "91\n",
      "92\n",
      "93\n",
      "94\n",
      "95\n",
      "96\n",
      "97\n",
      "98\n",
      "99\n",
      "100\n"
     ]
    }
   ],
   "source": [
    "for n in range(1,101):\n",
    "    if n % 5 == 0 and n % 3 == 0:\n",
    "        print('FizzBuzz')\n",
    "        continue\n",
    "    print(n)"
   ]
  },
  {
   "cell_type": "markdown",
   "metadata": {},
   "source": [
    "### 4. Display a table of powers."
   ]
  },
  {
   "cell_type": "markdown",
   "metadata": {},
   "source": [
    "- Prompt the user to enter an integer.\n",
    "- Display a table of squares and cubes from 1 to the value entered\n",
    "- Ask if the user wants to continue.\n",
    "- Assume that the user will enter valid data.\n",
    "- Only continue if the user agrees to."
   ]
  },
  {
   "cell_type": "markdown",
   "metadata": {},
   "source": [
    "###### step 1: prompt user to enter integer"
   ]
  },
  {
   "cell_type": "raw",
   "metadata": {},
   "source": [
    "while True:\n",
    "    try:\n",
    "        inp = int(input(\"Enter an integer: \"))\n",
    "        break\n",
    "    except ValueError:\n",
    "        print('Integer please')"
   ]
  },
  {
   "cell_type": "markdown",
   "metadata": {},
   "source": [
    "###### step 2: display a table of squares & cubes from 1 to entered number"
   ]
  },
  {
   "cell_type": "raw",
   "metadata": {},
   "source": [
    "for x in range(1,inp+1):   \n",
    "    print(x, x*2, x*3)  "
   ]
  },
  {
   "cell_type": "markdown",
   "metadata": {},
   "source": [
    "###### step 3: ask if user wants to continue (assume valid data)"
   ]
  },
  {
   "cell_type": "raw",
   "metadata": {},
   "source": [
    "inp = input(\"Would you like to continue: \")\n",
    "if inp.lower() == 'yes':\n",
    "    continue\n",
    "elif inp.lower() == 'no':\n",
    "    break"
   ]
  },
  {
   "cell_type": "code",
   "execution_count": 32,
   "metadata": {},
   "outputs": [
    {
     "name": "stdout",
     "output_type": "stream",
     "text": [
      "Enter an integer: 5\n",
      "1 2 3\n",
      "2 4 6\n",
      "3 6 9\n",
      "4 8 12\n",
      "5 10 15\n",
      "Would you like to continue: yes\n",
      "Enter an integer: 7\n",
      "1 2 3\n",
      "2 4 6\n",
      "3 6 9\n",
      "4 8 12\n",
      "5 10 15\n",
      "6 12 18\n",
      "7 14 21\n",
      "Would you like to continue: no\n"
     ]
    }
   ],
   "source": [
    "# final code\n",
    "while True:\n",
    "    try:\n",
    "        inp = int(input(\"Enter an integer: \"))\n",
    "    except ValueError:\n",
    "        print('Integer please')\n",
    "    for x in range(1,inp+1):   \n",
    "        print(x, x*2, x*3)\n",
    "    inp = input(\"Would you like to continue: \")\n",
    "    if inp.lower() == 'yes':\n",
    "        continue\n",
    "    elif inp.lower() == 'no':\n",
    "        break"
   ]
  },
  {
   "cell_type": "markdown",
   "metadata": {},
   "source": [
    "### 5. Convert given number grades into letter grades.\n",
    "\n",
    "- Prompt the user for a numerical grade from 0 to 100.\n",
    "- Display the corresponding letter grade.\n",
    "- Prompt the user to continue.\n",
    "- Assume that the user will enter valid integers for the grades.\n",
    "- The application should only continue if the user agrees to."
   ]
  },
  {
   "cell_type": "markdown",
   "metadata": {},
   "source": [
    "###### step 1: prompt user for grade from 1 to 100"
   ]
  },
  {
   "cell_type": "raw",
   "metadata": {},
   "source": [
    "while True:\n",
    "    try:\n",
    "        inp = int(input(\"Enter your grade: \"))\n",
    "        if inp >= 100 and inp <= 0: #swap for step 2\n",
    "                                    #insert step 3\n",
    "            break\n",
    "        print('Read the prompt')\n",
    "    except ValueError:\n",
    "        print('Number please')"
   ]
  },
  {
   "cell_type": "markdown",
   "metadata": {},
   "source": [
    "###### step 2: Displays letter grade (based on response)"
   ]
  },
  {
   "cell_type": "raw",
   "metadata": {},
   "source": [
    "if inp <= 100 and inp >= 88:\n",
    "    print('A')\n",
    "elif inp <= 87 and inp >= 80:\n",
    "    print('B')\n",
    "elif inp <= 79 and inp >= 67:\n",
    "    print('C')\n",
    "elif inp <= 66 and inp >= 60:\n",
    "    print('D')\n",
    "elif inp <= 59 and inp >= 0:\n",
    "    print('F')"
   ]
  },
  {
   "cell_type": "markdown",
   "metadata": {},
   "source": [
    "###### step 3: prompts user to continue"
   ]
  },
  {
   "cell_type": "raw",
   "metadata": {},
   "source": [
    "inp = input(\"Would you like to continue: \")\n",
    "if inp.lower() == 'yes':\n",
    "    continue\n",
    "elif inp.lower() == 'no':\n",
    "    break"
   ]
  },
  {
   "cell_type": "code",
   "execution_count": null,
   "metadata": {},
   "outputs": [],
   "source": [
    "# final code\n",
    "while True:\n",
    "    try:\n",
    "        inp = int(input(\"Enter your grade: \"))\n",
    "        if inp <= 100 and inp >= 88:\n",
    "            print('A')\n",
    "        elif inp <= 87 and inp >= 80:\n",
    "            print('B')\n",
    "        elif inp <= 79 and inp >= 67:\n",
    "            print('C')\n",
    "        elif inp <= 66 and inp >= 60:\n",
    "            print('D')\n",
    "        elif inp <= 59 and inp >= 0:\n",
    "            print('F')\n",
    "        inp = input(\"Would you like to continue: \")\n",
    "        if inp.lower() == 'yes':\n",
    "            continue\n",
    "        elif inp.lower() == 'no':\n",
    "            break\n",
    "        print('What was that?')\n",
    "    except ValueError:\n",
    "        print('Number please')"
   ]
  },
  {
   "cell_type": "markdown",
   "metadata": {},
   "source": [
    "#### Bonus\n",
    "\n",
    "- Edit your grade ranges to include pluses and minuses (ex: 99-100 = A+)."
   ]
  },
  {
   "cell_type": "code",
   "execution_count": null,
   "metadata": {},
   "outputs": [],
   "source": [
    "while True:\n",
    "    try:\n",
    "        inp = int(input(\"Enter your grade: \"))\n",
    "        if inp <= 100 and inp >= 97:\n",
    "            print('A+')\n",
    "        elif inp <= 96 and inp >= 92:\n",
    "            print('A')\n",
    "        elif inp <= 91 and inp >= 88:\n",
    "            print('A-')\n",
    "        elif inp <= 87 and inp >= 85:\n",
    "            print('B+')\n",
    "        elif inp <= 84 and inp >= 83:\n",
    "            print('B')\n",
    "        elif inp <= 82 and inp >= 80:\n",
    "            print('B-')\n",
    "        elif inp <= 79 and inp >= 76:\n",
    "            print('C+')\n",
    "        elif inp <= 75 and inp >= 71:\n",
    "            print('C')\n",
    "        elif inp <= 70 and inp >= 67:\n",
    "            print('C-')\n",
    "        elif inp <= 66 and inp >= 65:\n",
    "            print('D+')\n",
    "        elif inp <= 64 and inp >= 62:\n",
    "            print('D')\n",
    "        elif inp <= 61 and inp >= 60:\n",
    "            print('D-')\n",
    "        elif inp <= 59 and inp >= 0:\n",
    "            print('F')\n",
    "        inp = input(\"Would you like to continue: \")\n",
    "        if inp.lower() == 'yes':\n",
    "            continue\n",
    "        elif inp.lower() == 'no':\n",
    "            break\n",
    "        print('What was that?')\n",
    "    except ValueError:\n",
    "        print('Number please')"
   ]
  },
  {
   "cell_type": "markdown",
   "metadata": {},
   "source": [
    "### 6. Create a list of dictionaries where each dictionary represents a book that you have read. Each dictionary in the list should have the keys title, author, and genre. Loop through the list and print out information about each book.\n",
    "\n",
    "    a. Prompt the user to enter a genre, then loop through your books list and print out the titles of all the books in that genre."
   ]
  },
  {
   "cell_type": "code",
   "execution_count": null,
   "metadata": {},
   "outputs": [],
   "source": [
    "# list of dictionaries, books I've read\n",
    "books = [\n",
    "    {\n",
    "        \"title\": \"The Power of Now\",\n",
    "        \"author\": \"Eckhart Tolle\",\n",
    "        \"genre\": \"Spiritual\"\n",
    "    },\n",
    "    {\n",
    "       \"title\": \"Waking Up\",\n",
    "        \"author\": \"Sam Harris\",\n",
    "        \"genre\": \"Spiritual\" \n",
    "        \n",
    "    },\n",
    "    {\n",
    "       \"title\": \"Total Money Makeover\",\n",
    "        \"author\": \"Dave Ramsey\",\n",
    "        \"genre\": \"Finance\" \n",
    "        \n",
    "    },\n",
    "    {\n",
    "       \"title\": \"I Will Teach You to be Rich\",\n",
    "        \"author\": \"Ramit Sethi\",\n",
    "        \"genre\": \"Finance\" ,\n",
    "        \n",
    "    },\n",
    "    {\n",
    "       \"title\": \"The House of the Scorpion\",\n",
    "        \"author\": \"Nancy Farmer\",\n",
    "        \"genre\": \"Fiction\" \n",
    "        \n",
    "    },\n",
    "    {\n",
    "       \"title\": \"Ender's Game\",\n",
    "        \"author\": \"Orson Scott Card\",\n",
    "        \"genre\": \"Fiction\" \n",
    "        \n",
    "    },\n",
    "    {\n",
    "       \"title\": \"Essentialism\",\n",
    "        \"author\": \"Greg Mckeown\",\n",
    "        \"genre\": \"Self-help\" \n",
    "        \n",
    "    },\n",
    "    {\n",
    "       \"title\": \"The Four Agreements\",\n",
    "        \"author\": \"Don Miguel Ruiz\",\n",
    "        \"genre\": \"Self-Help\" \n",
    "        \n",
    "    }\n",
    "]"
   ]
  },
  {
   "cell_type": "code",
   "execution_count": 9,
   "metadata": {},
   "outputs": [
    {
     "name": "stdout",
     "output_type": "stream",
     "text": [
      "Enter a genre: finance\n",
      "Try again\n",
      "Try again\n",
      "Total Money Makeover by Dave Ramsey\n"
     ]
    }
   ],
   "source": [
    "inp = input(\"Enter a genre: \")\n",
    "for book in books:\n",
    "    if inp.lower() == book[\"genre\"].lower():\n",
    "        print(book[\"title\"], \"by\", book[\"author\"])\n",
    "        break\n",
    "    else:\n",
    "        print('Try again')\n",
    "        continue"
   ]
  },
  {
   "cell_type": "code",
   "execution_count": null,
   "metadata": {},
   "outputs": [],
   "source": []
  }
 ],
 "metadata": {
  "kernelspec": {
   "display_name": "Python 3",
   "language": "python",
   "name": "python3"
  },
  "language_info": {
   "codemirror_mode": {
    "name": "ipython",
    "version": 3
   },
   "file_extension": ".py",
   "mimetype": "text/x-python",
   "name": "python",
   "nbconvert_exporter": "python",
   "pygments_lexer": "ipython3",
   "version": "3.7.6"
  }
 },
 "nbformat": 4,
 "nbformat_minor": 4
}
