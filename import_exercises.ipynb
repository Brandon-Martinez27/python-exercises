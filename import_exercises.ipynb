{
 "cells": [
  {
   "cell_type": "markdown",
   "metadata": {},
   "source": [
    "## 1. Import and test 3 of the functions from your functions exercise file.\n",
    "\n",
    "Import each function in a different way:\n",
    "\n",
    "    - import the module and refer to the function with the . syntax\n",
    "    - use from to import the function directly\n",
    "    - use from and give the function a different name"
   ]
  },
  {
   "cell_type": "code",
   "execution_count": 13,
   "metadata": {},
   "outputs": [
    {
     "data": {
      "text/plain": [
       "True"
      ]
     },
     "execution_count": 13,
     "metadata": {},
     "output_type": "execute_result"
    }
   ],
   "source": [
    "# import the function_exercises.py file from\n",
    "# my personal directory\n",
    "import function_exercises\n",
    "# call the function 'is_two' from my module\n",
    "function_exercises.is_two(2)"
   ]
  },
  {
   "cell_type": "code",
   "execution_count": 14,
   "metadata": {},
   "outputs": [
    {
     "data": {
      "text/plain": [
       "True"
      ]
     },
     "execution_count": 14,
     "metadata": {},
     "output_type": "execute_result"
    }
   ],
   "source": [
    "# from module, import the function 'is_vowel'\n",
    "from function_exercises import is_vowel\n",
    "# call the function 'is_vowel' to evaluate the string 'o'\n",
    "is_vowel('o')"
   ]
  },
  {
   "cell_type": "code",
   "execution_count": 15,
   "metadata": {},
   "outputs": [
    {
     "data": {
      "text/plain": [
       "True"
      ]
     },
     "execution_count": 15,
     "metadata": {},
     "output_type": "execute_result"
    }
   ],
   "source": [
    "# from module, import the function 'is_consonant',\n",
    "# set function alias to ic\n",
    "from function_exercises import is_consonant as ic\n",
    "# call the function alias 'ic' to evaluate the string 'b'\n",
    "ic('b')"
   ]
  },
  {
   "cell_type": "markdown",
   "metadata": {},
   "source": [
    "   \n",
    "### For the following exercises, read about and use the itertools module from the standard library to help you solve the problem.\n",
    "\n",
    "1. How many different ways can you combine the letters from \"abc\" with the numbers 1, 2, and 3?\n",
    "2. How many different ways can you combine two of the letters from \"abcd\"?"
   ]
  },
  {
   "cell_type": "code",
   "execution_count": 16,
   "metadata": {},
   "outputs": [],
   "source": [
    "# importing std library itertools\n",
    "import itertools as it"
   ]
  },
  {
   "cell_type": "code",
   "execution_count": 203,
   "metadata": {},
   "outputs": [],
   "source": [
    "# 1.\n",
    "# accessing chain function which outputs\n",
    "# two sequences as one respectively\n",
    "chain_1 = list(it.chain('123', 'abc'))\n",
    "\n",
    "chain_2 = list(it.chain.from_iterable(chain_1))\n",
    "\n",
    "product_1 = list(it.product('abc', '123'))\n",
    "\n",
    "combo_1 = list(it.combinations('abc123', 2))"
   ]
  },
  {
   "cell_type": "code",
   "execution_count": 18,
   "metadata": {},
   "outputs": [],
   "source": [
    "# 2. \n",
    "# accesing combinations function which takes \n",
    "# 2 parameters (argument, and length of tuples)\n",
    "# output in a list\n",
    "combo_2 = list(it.combinations('ABCD', 2))\n",
    "# gives back all possible unique combinations\n",
    "\n",
    "perm_1 = list(it.permutations('ABCD', 2))\n",
    "\n",
    "combo_3 = list(it.combinations_with_replacement('ABCD', 2))"
   ]
  },
  {
   "cell_type": "markdown",
   "metadata": {},
   "source": [
    "### Save this file as profiles.json inside of your exercises directory. Use the load function from the json module to open this file, it will produce a list of dictionaries. Using this data, write some code that calculates and outputs the following information:\n",
    "\n",
    "- Total number of users\n",
    "- Number of active users\n",
    "- Number of inactive users\n",
    "- Grand total of balances for all users\n",
    "- Average balance per user\n",
    "- User with the lowest balance\n",
    "- User with the highest balance\n",
    "- Most common favorite fruit\n",
    "- Least most common favorite fruit\n",
    "- Total number of unread messages for all users"
   ]
  },
  {
   "cell_type": "code",
   "execution_count": 92,
   "metadata": {},
   "outputs": [],
   "source": [
    "# import profiles.json\n",
    "import json\n",
    "with open('profiles.json', 'r') as pj:\n",
    "    profiles = json.load(pj)"
   ]
  },
  {
   "cell_type": "code",
   "execution_count": 93,
   "metadata": {},
   "outputs": [
    {
     "data": {
      "text/plain": [
       "19"
      ]
     },
     "execution_count": 93,
     "metadata": {},
     "output_type": "execute_result"
    }
   ],
   "source": [
    "# total number of users\n",
    "len(profiles)"
   ]
  },
  {
   "cell_type": "code",
   "execution_count": 135,
   "metadata": {},
   "outputs": [
    {
     "name": "stdout",
     "output_type": "stream",
     "text": [
      "9\n"
     ]
    }
   ],
   "source": [
    "# number of active users\n",
    "user_list = []\n",
    "for p in profiles[0:20]:\n",
    "    if p['isActive'] == True:\n",
    "        user_list.append(p['isActive'])\n",
    "number_of_active_users = len(user_list)\n",
    "print(number_of_active_users)"
   ]
  },
  {
   "cell_type": "code",
   "execution_count": 136,
   "metadata": {},
   "outputs": [
    {
     "name": "stdout",
     "output_type": "stream",
     "text": [
      "10\n"
     ]
    }
   ],
   "source": [
    "# number of inactive users\n",
    "no_user_list = []\n",
    "for p in profiles[0:20]:\n",
    "    if p['isActive'] == False:\n",
    "        no_user_list.append(p['isActive'])\n",
    "number_of_active_users = len(no_user_list)\n",
    "print(number_of_active_users)"
   ]
  },
  {
   "cell_type": "code",
   "execution_count": 129,
   "metadata": {
    "scrolled": true
   },
   "outputs": [
    {
     "name": "stdout",
     "output_type": "stream",
     "text": [
      "52667.02\n"
     ]
    }
   ],
   "source": [
    "# Grand total of balances for all users\n",
    "b_list = []\n",
    "for p in profiles[0:20]:\n",
    "    balance = p['balance'].strip('$,')\n",
    "    balance = balance.replace(',', '_')\n",
    "    balance = round(float(balance),2)\n",
    "    b_list.append(balance)\n",
    "grand_total = sum(b_list)\n",
    "print(grand_total)"
   ]
  },
  {
   "cell_type": "code",
   "execution_count": 140,
   "metadata": {},
   "outputs": [
    {
     "name": "stdout",
     "output_type": "stream",
     "text": [
      "2771.95\n"
     ]
    }
   ],
   "source": [
    "# Average balance per user\n",
    "average_balance = grand_total / len(profiles)\n",
    "print(round(average_balance, 2))"
   ]
  },
  {
   "cell_type": "code",
   "execution_count": 155,
   "metadata": {},
   "outputs": [
    {
     "name": "stdout",
     "output_type": "stream",
     "text": [
      "$1,214.10\n",
      "Avery Flynn\n"
     ]
    }
   ],
   "source": [
    "# User with the lowest balance\n",
    "lowest_balance = min(b_list)\n",
    "lowest_balance = str(lowest_balance)\n",
    "lowest_balance = '$' + lowest_balance + '0'\n",
    "lowest_balance = lowest_balance[:2] + ',' + lowest_balance[2:]\n",
    "print(lowest_balance)\n",
    "\n",
    "for p in profiles[0:20]:\n",
    "    if p['balance'] == lowest_balance:\n",
    "        print(p['name'])"
   ]
  },
  {
   "cell_type": "code",
   "execution_count": 157,
   "metadata": {},
   "outputs": [
    {
     "name": "stdout",
     "output_type": "stream",
     "text": [
      "$3,919.64\n",
      "Fay Hammond\n"
     ]
    }
   ],
   "source": [
    "# User with the highest balance\n",
    "highest_balance = max(b_list)\n",
    "highest_balance = str(highest_balance)\n",
    "highest_balance = '$' + highest_balance\n",
    "highest_balance = highest_balance[:2] + ',' + highest_balance[2:]\n",
    "print(highest_balance)\n",
    "\n",
    "for p in profiles[0:20]:\n",
    "    if p['balance'] == highest_balance:\n",
    "        print(p['name'])"
   ]
  },
  {
   "cell_type": "code",
   "execution_count": 169,
   "metadata": {},
   "outputs": [
    {
     "name": "stdout",
     "output_type": "stream",
     "text": [
      "strawberry\n"
     ]
    }
   ],
   "source": [
    "# Most common favorite fruit\n",
    "most_common_fruit = []\n",
    "for p in profiles[0:20]:\n",
    "    fav_fruit = p['favoriteFruit']\n",
    "    most_common_fruit.append(fav_fruit)\n",
    "from statistics import mode\n",
    "mcf = mode(most_common_fruit)\n",
    "print(mcf)"
   ]
  },
  {
   "cell_type": "code",
   "execution_count": 178,
   "metadata": {},
   "outputs": [
    {
     "data": {
      "text/plain": [
       "[('apple', 4)]"
      ]
     },
     "execution_count": 178,
     "metadata": {},
     "output_type": "execute_result"
    }
   ],
   "source": [
    "# Least most common favorite fruit\n",
    "most_common_fruit = []\n",
    "for p in profiles[0:20]:\n",
    "    fav_fruit = p['favoriteFruit']\n",
    "    most_common_fruit.append(fav_fruit)\n",
    "most_common_fruit.sort()\n",
    "most_common_fruit\n",
    "from collections import Counter\n",
    "Counter(most_common_fruit).most_common()[:-2:-1]"
   ]
  },
  {
   "cell_type": "code",
   "execution_count": 219,
   "metadata": {},
   "outputs": [
    {
     "name": "stdout",
     "output_type": "stream",
     "text": [
      "[['4'], ['19'], ['5'], ['10'], ['9'], ['19'], ['13'], ['17'], ['2'], ['18'], ['2'], ['13'], ['7'], ['13'], ['12'], ['7'], ['19'], ['5'], ['16']]\n"
     ]
    }
   ],
   "source": [
    "# Total number of unread messages for all users\n",
    "from re import findall\n",
    "num_list = []\n",
    "for p in profiles[0:20]:\n",
    "    only_numbers = findall('[0-9]+', p['greeting'])\n",
    "    num_list.append(only_numbers)\n",
    "print(num_list)\n"
   ]
  },
  {
   "cell_type": "code",
   "execution_count": 227,
   "metadata": {},
   "outputs": [
    {
     "name": "stdout",
     "output_type": "stream",
     "text": [
      "['4', '19', '5', '10', '9', '19', '13', '17', '2', '18', '2', '13', '7', '13', '12', '7', '19', '5', '16']\n"
     ]
    }
   ],
   "source": [
    "str_numbers = list(it.chain.from_iterable(num_list))\n",
    "print(str_numbers)"
   ]
  },
  {
   "cell_type": "code",
   "execution_count": 228,
   "metadata": {},
   "outputs": [
    {
     "name": "stdout",
     "output_type": "stream",
     "text": [
      "[4, 19, 5, 10, 9, 19, 13, 17, 2, 18, 2, 13, 7, 13, 12, 7, 19, 5, 16]\n"
     ]
    }
   ],
   "source": [
    "numbers = [int(n) for n in str_numbers]\n",
    "print(numbers)"
   ]
  },
  {
   "cell_type": "code",
   "execution_count": 231,
   "metadata": {},
   "outputs": [
    {
     "name": "stdout",
     "output_type": "stream",
     "text": [
      "210\n"
     ]
    }
   ],
   "source": [
    "total_number_of_unread_messages = sum(numbers)\n",
    "print(total_of_numbers)"
   ]
  },
  {
   "cell_type": "code",
   "execution_count": null,
   "metadata": {},
   "outputs": [],
   "source": []
  }
 ],
 "metadata": {
  "kernelspec": {
   "display_name": "Python 3",
   "language": "python",
   "name": "python3"
  },
  "language_info": {
   "codemirror_mode": {
    "name": "ipython",
    "version": 3
   },
   "file_extension": ".py",
   "mimetype": "text/x-python",
   "name": "python",
   "nbconvert_exporter": "python",
   "pygments_lexer": "ipython3",
   "version": "3.7.6"
  }
 },
 "nbformat": 4,
 "nbformat_minor": 4
}
